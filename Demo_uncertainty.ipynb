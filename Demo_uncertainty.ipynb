{
 "cells": [
  {
   "cell_type": "markdown",
   "metadata": {},
   "source": [
    "# Uncertainty module\n",
    "\n",
    "To demonstrate the uncertainty module, we consider the toy prediction model\n",
    "$$ f_{\\alpha, \\beta}(t) = \\cos(t * \\alpha + \\arctan(\\beta) )$$\n",
    "for which $\\alpha$ and $\\beta$ are to be fitted.\n",
    "\n",
    "The statistical model considered is $$ y = \\cos(t * \\alpha + \\arctan(\\beta)) + \\sigma \\varepsilon$$ while the data is really generated as $$y = \\cos(t^* * \\alpha + \\arctan(\\beta)) + \\sigma \\varepsilon$$ with $t = t^* + \\sigma_2 \\varepsilon_t$, and $\\varepsilon$ following uniform noise."
   ]
  },
  {
   "cell_type": "code",
   "execution_count": null,
   "metadata": {},
   "outputs": [],
   "source": [
    "\n",
    "import aduq.uncertainty as uq\n",
    "import numpy as np\n",
    "\n",
    "np.random.seed(1)\n",
    "\n",
    "noise_lev_out = 0.25\n",
    "noise_lev_in = 0.2\n",
    "\n",
    "n_obs = 40\n",
    "n_par = 2\n",
    "ts = np.linspace(0, 10, n_obs)\n",
    "\n",
    "p_star = np.array([1.3, 2.4])\n",
    "ys = np.cos(ts * p_star[0] + np.arctan(p_star[1])) + np.random.uniform( - noise_lev_out, noise_lev_out, n_obs)\n",
    "\n",
    "ts = ts + np.random.normal(0, noise_lev_in, n_obs)\n",
    "\n",
    "ts_perturb = ts \n",
    "def pred(x):\n",
    "    return np.cos(ts * x[0] + np.arctan(x[1]))\n",
    "\n",
    "def pred_grad(x):\n",
    "    der_cos = -np.sin(ts * x[0] + np.arctan(x[1]))\n",
    "    return np.array([ts * der_cos,  (1/ (1 + x[1]**2)) * der_cos])\n",
    "    \n",
    "def score(x):\n",
    "    return np.sum((pred(x) - ys) **2)\n",
    "\n",
    "\n",
    "import numpy as np\n",
    "import matplotlib.pyplot as plt\n",
    "\n",
    "# For plotting purposes\n",
    "from math import pi\n",
    "angles = np.linspace(0, 2 * pi, 1000)\n",
    "circle = np.array([np.cos(angles), np.sin(angles)])\n",
    "\n",
    "def half_cov(cov):\n",
    "    vals, vects = np.linalg.eigh(cov)\n",
    "    return (np.sqrt(vals) * vects) @ vects.T\n",
    "\n",
    "def repr_gauss(mean, cov, rad =1.0):\n",
    "    loc_circle = circle.copy()\n",
    "    return mean + rad * (half_cov(cov) @ loc_circle).T\n"
   ]
  },
  {
   "cell_type": "markdown",
   "metadata": {},
   "source": [
    "The uncertainty quantification methods in uncertainty module are ad hoc methods, for which previous calibration is required."
   ]
  },
  {
   "cell_type": "code",
   "execution_count": null,
   "metadata": {},
   "outputs": [],
   "source": [
    "from aduq.optim import optim_CMA\n",
    "\n",
    "\n",
    "result = optim_CMA(\n",
    "    np.zeros(n_par), score=score,\n",
    "    chain_length=400,\n",
    "    radius_factor= .4, cov_updt_speed=.2, radius_ini=2.0, per_step=1000, silent=False)\n",
    "\n",
    "opti_param = result.opti_param\n",
    "\n",
    "# Deal with symmetry issue\n",
    "if opti_param[0] < 0:\n",
    "    opti_param = -opti_param"
   ]
  },
  {
   "cell_type": "code",
   "execution_count": null,
   "metadata": {},
   "outputs": [],
   "source": [
    "fim_mat, cov = uq.fim(pred_grad(opti_param), res = ys - pred(opti_param), weights = 1.0)\n",
    "\n",
    "uq.fim_pval(p_star, opti_param, cov, fim_mat)"
   ]
  },
  {
   "cell_type": "code",
   "execution_count": null,
   "metadata": {},
   "outputs": [],
   "source": [
    "from scipy.stats import chi2\n",
    "\n",
    "hist_param = np.array(result.hist_param)\n",
    "\n",
    "plt.plot(p_star[0], p_star[1], \"x\", label=\"True param\")\n",
    "fim_circ = repr_gauss(opti_param, cov, chi2(2).ppf(0.95) ** .5) # Confidence region computed using FIM\n",
    "plt.plot(fim_circ[:, 0], fim_circ[:, 1], label=\"FIM\")\n",
    "plt.legend()\n",
    "plt.show()"
   ]
  },
  {
   "cell_type": "code",
   "execution_count": null,
   "metadata": {},
   "outputs": [],
   "source": [
    "beale_results = uq.beale_boundary(opti_param, score, cov, n_obs=n_obs, conf_lev=.95, n_boundary = 2000)"
   ]
  },
  {
   "cell_type": "code",
   "execution_count": null,
   "metadata": {},
   "outputs": [],
   "source": [
    "bound = np.array(beale_results[\"boundary\"])\n",
    "\n",
    "plt.plot(bound[:, 0], bound[:, 1], '.', markersize=.5, label=\"Beale (0.95)\")\n",
    "plt.plot(fim_circ[:, 0], fim_circ[:, 1], label=\"FIM (0.95)\")\n",
    "# plt.plot(opti_param[0], opti_param[1], \"+\")\n",
    "plt.plot(p_star[0], p_star[1], \"+\", markersize=10.0, color=\"black\", label=\"True param\")\n",
    "plt.legend()\n",
    "plt.show()"
   ]
  },
  {
   "cell_type": "code",
   "execution_count": null,
   "metadata": {},
   "outputs": [],
   "source": [
    "deltas_boot = np.array(uq.lin_bootstrap(res = ys - pred(opti_param), grad= pred_grad(opti_param), n_boot=10**4))\n",
    "sample_boot = deltas_boot + opti_param\n",
    "\n",
    "bound = np.array(beale_results[\"boundary\"])\n",
    "\n",
    "plt.plot(bound[:, 0], bound[:, 1], '.', markersize=.5, label=\"Beale (0.95)\")\n",
    "plt.plot(fim_circ[:, 0], fim_circ[:, 1], label=\"FIM (0.95)\")\n",
    "# plt.plot(opti_param[0], opti_param[1], \"+\")\n",
    "plt.plot(p_star[0], p_star[1], \"+\", markersize=10.0, color=\"black\", label=\"True param\")\n",
    "plt.plot(sample_boot[:, 0], sample_boot[:,1], '.', markersize=.3, label=\"Lin bootstrap (sample)\")\n",
    "plt.legend()\n",
    "plt.show()\n"
   ]
  },
  {
   "cell_type": "code",
   "execution_count": null,
   "metadata": {},
   "outputs": [],
   "source": [
    "def calib(data):\n",
    "    def score(par):\n",
    "        return np.sum((pred(par) - data) **2)\n",
    "    \n",
    "    return optim_CMA(opti_param, score, chain_length=3, cov_ini=cov, radius_ini = .1, per_step=1000, silent=True).opti_param\n",
    "\n",
    "bootstrap_res = np.array(uq.bootstrap(100, calib, ys, pred(opti_param), parallel=False))"
   ]
  },
  {
   "cell_type": "code",
   "execution_count": null,
   "metadata": {},
   "outputs": [],
   "source": [
    "bootstrap_res = np.array(bootstrap_res)\n",
    "\n",
    "plt.plot(bound[:, 0], bound[:, 1], '.', markersize=.5, label=\"Beale (0.95)\")\n",
    "plt.plot(fim_circ[:, 0], fim_circ[:, 1], label=\"FIM (0.95)\")\n",
    "# plt.plot(opti_param[0], opti_param[1], \"+\")\n",
    "plt.plot(p_star[0], p_star[1], \"+\", markersize=10.0, color=\"black\", label=\"True param\")\n",
    "plt.plot(bootstrap_res[:, 0], bootstrap_res[:, 1], \".\", label=\"bootstrap\")\n",
    "plt.legend()\n",
    "plt.show()"
   ]
  },
  {
   "cell_type": "markdown",
   "metadata": {},
   "source": [
    "## Second exemple and plotting submodule"
   ]
  },
  {
   "cell_type": "code",
   "execution_count": null,
   "metadata": {},
   "outputs": [],
   "source": [
    "import aduq.uncertainty.plot as uplt\n",
    "from functools import partial\n",
    "\n",
    "n_data = 200\n",
    "n_feat = 2\n",
    "sigma = .2\n",
    "\n",
    "x = np.random.normal(0,1, (n_data, n_feat))\n",
    "\n",
    "def pred(par):\n",
    "    return np.cos(x @ par) + 0.01 * np.tan(x @ np.sin(par))\n",
    "\n",
    "par_star = np.random.normal(0,1, n_feat)\n",
    "pred_star = pred(par_star)\n",
    "\n",
    "obs = pred_star + sigma * np.random.normal(0,1, n_data)\n",
    "\n",
    "par_0 = np.zeros(n_feat)\n",
    "def score(par, obs):\n",
    "    return np.sqrt(np.mean((obs - pred(par))**2))\n",
    "\n",
    "cond = False\n",
    "\n",
    "loc_score = partial(score, obs=obs)\n",
    "\n",
    "while not cond:\n",
    "    optim_res = optim_CMA(\n",
    "        par_0,\n",
    "        loc_score,\n",
    "        chain_length=1000, per_step=400,\n",
    "        cov_updt_speed=.1, radius_factor=.9,\n",
    "        parallel=False , silent=True, xtol=10** (-12), ftol=10**(-15))\n",
    "\n",
    "    par_opti = optim_res.opti_param\n",
    "\n",
    "    cond = (loc_score(par_star) > loc_score(par_opti))"
   ]
  },
  {
   "cell_type": "code",
   "execution_count": null,
   "metadata": {},
   "outputs": [],
   "source": [
    "def pred_der(par):\n",
    "    der_1 =  (- np.sin(x @ par) * x.T).T\n",
    "    der_2 =   0.01 * ((1 + np.tan(x @ np.sin(par))**2 ) * x.T).T * np.cos(par)\n",
    "    return (der_1 + der_2).T\n",
    "\n",
    "\n",
    "der_opt = pred_der(par_opti)\n",
    "res = obs - pred(par_opti)\n",
    "\n",
    "fim, cov_fim = uq.fim(grad = der_opt, res=res)\n",
    "\n",
    "uq.fim_pval(par_star, par_opti, cov_fim)"
   ]
  },
  {
   "cell_type": "code",
   "execution_count": null,
   "metadata": {},
   "outputs": [],
   "source": [
    "fig, ax = uplt.start_plot(n_feat)\n",
    "uplt.grid_plot_2D_gauss(fig, ax, par_opti, cov_fim, conf_lev=.95)\n",
    "fig.tight_layout()"
   ]
  },
  {
   "cell_type": "markdown",
   "metadata": {},
   "source": [
    "### 2. Beale"
   ]
  },
  {
   "cell_type": "code",
   "execution_count": null,
   "metadata": {},
   "outputs": [],
   "source": [
    "# To use Beale's UQ, the score must a MSE type. Here we convert the RMSE to MSE.\n",
    "\n",
    "from aduq.misc import post_modif\n",
    "\n",
    "score_2 = post_modif(lambda x: x**2)(loc_score)\n",
    "boundary = uq.beale_boundary(par_opti, score_2, cov_fim, n_obs=n_data, conf_lev=.95, n_boundary=4000)"
   ]
  },
  {
   "cell_type": "code",
   "execution_count": null,
   "metadata": {},
   "outputs": [],
   "source": [
    "uq.beale_pval(n_param=n_feat, n_obs=n_data, score_param = score_2(par_star), score_opt = score_2(par_opti))"
   ]
  },
  {
   "cell_type": "code",
   "execution_count": null,
   "metadata": {},
   "outputs": [],
   "source": [
    "fig, ax = uplt.grid_plot_2D_sample_contour(fig, ax, np.array(boundary[\"boundary\"]))\n",
    "fig.tight_layout()\n",
    "\n",
    "fig"
   ]
  },
  {
   "cell_type": "code",
   "execution_count": null,
   "metadata": {},
   "outputs": [],
   "source": [
    "def calibration(obs, **kwargs):\n",
    "    return optim_CMA( param_ini=par_opti, score = partial(score, obs=obs), parallel=True, **kwargs).opti_param\n",
    "\n",
    "boot_sample = uq.bootstrap(n_boot=64, calib = calibration, obs=obs, opti_pred = pred(par_opti), parallel=False, xtol=1e-5, ftol=1e-6, chain_length=100, radius_ini=0.02, silent=True)\n"
   ]
  },
  {
   "cell_type": "code",
   "execution_count": null,
   "metadata": {},
   "outputs": [],
   "source": [
    "fig, ax = uplt.grid_plot_2D_sample_contour(fig, ax, np.array(boot_sample))\n",
    "fig.tight_layout()\n",
    "\n",
    "fig"
   ]
  },
  {
   "cell_type": "code",
   "execution_count": null,
   "metadata": {},
   "outputs": [],
   "source": []
  }
 ],
 "metadata": {
  "kernelspec": {
   "display_name": "Python 3.9.10 64-bit",
   "language": "python",
   "name": "python3"
  },
  "language_info": {
   "codemirror_mode": {
    "name": "ipython",
    "version": 3
   },
   "file_extension": ".py",
   "mimetype": "text/x-python",
   "name": "python",
   "nbconvert_exporter": "python",
   "pygments_lexer": "ipython3",
   "version": "3.9.10"
  },
  "orig_nbformat": 4,
  "vscode": {
   "interpreter": {
    "hash": "aee8b7b246df8f9039afb4144a1f6fd8d2ca17a180786b69acc140d282b71a49"
   }
  }
 },
 "nbformat": 4,
 "nbformat_minor": 2
}
