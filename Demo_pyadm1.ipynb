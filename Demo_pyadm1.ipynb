{
    "cells": [
        {
            "cell_type": "code",
            "execution_count": 1,
            "metadata": {},
            "outputs": [],
            "source": [
                "import aduq.pyadm1 as adm1\n",
                "import os\n",
                "import numpy as np\n",
                "data_path = 'aduq/pyadm1/data/'\n",
                "\n",
                "# Loading data\n",
                "feed = adm1.IO.load_dig_feed(os.path.join(data_path,\"digester_influent.csv\"))[:100] # limit to first 25 days to speed up\n",
                "ini_state = adm1.IO.load_dig_state(os.path.join(data_path, \"digester_initial.json\"))\n",
                "dig_info = adm1.IO.load_dig_info(os.path.join(data_path, \"dig_info.json\"))\n",
                "\n",
                "param = adm1.IO.load_dig_param(os.path.join(data_path, \"parameter.json\"))\n",
                "\n",
                "params_to_calib = [\"K_S_ac\", \"k_m_ac\"]"
            ]
        },
        {
            "attachments": {},
            "cell_type": "markdown",
            "metadata": {},
            "source": [
                "## ADM1 related classes\n",
                "\n",
                "There are 5 main classes for ADM1 objects:\n",
                "- DigesterInfluent: description of what goes in a digester. Saved as csv\n",
                "- DigesterStates: observations of the digester. Saved as csv\n",
                "- DigesterState: An observation of the digester at a given time. Saved as json\n",
                "- DigesterInfo: Main info about the digester (volumes and temperatures, fixed). Saved as json\n",
                "- DigesterParameter: description of the microbiology in the digester (what one calibrates). Saved as json\n",
                "\n",
                "All objects are stored and displayed in human readable formats. However, they behave as np.ndarray! To access the pandas object, use the .to_pandas() method.\n",
                "These objects can be saved using the save(path=) method."
            ]
        },
        {
            "cell_type": "code",
            "execution_count": 2,
            "metadata": {},
            "outputs": [
                {
                    "name": "stdout",
                    "output_type": "stream",
                    "text": [
                        "Digester info:\n",
                        "V_liq: 3400.0\n",
                        "V_gas: 300.0\n",
                        "T_ad: 308.15\n",
                        "T_op: 308.15\n",
                        "\n",
                        "Digester initial:\n",
                        "time          0.000000e+00\n",
                        "S_su          5.347819e-03\n",
                        "S_aa          6.419250e-03\n",
                        "S_fa          2.784404e-01\n",
                        "S_va          3.300082e-02\n",
                        "S_bu          3.882444e-02\n",
                        "S_pro         2.018394e-02\n",
                        "S_ac          2.666949e-01\n",
                        "S_h2          3.457000e-07\n",
                        "S_ch4         6.111076e-02\n",
                        "S_IC          1.527231e-01\n",
                        "S_IN          1.513656e-01\n",
                        "S_I           8.124763e-02\n",
                        "X_c           2.492210e-01\n",
                        "X_ch          1.510155e-01\n",
                        "X_pr          1.578477e-01\n",
                        "X_li          7.927928e-02\n",
                        "X_su          9.272244e-01\n",
                        "X_aa          1.758083e+00\n",
                        "X_fa          1.169899e-01\n",
                        "X_c4          6.559509e-01\n",
                        "X_pro         2.237668e-01\n",
                        "X_ac          1.086110e+00\n",
                        "X_h2          4.499037e-01\n",
                        "X_I           7.129544e-01\n",
                        "S_cation      3.506427e-49\n",
                        "S_anion       1.691559e-04\n",
                        "pH            3.710000e-08\n",
                        "S_va_ion      3.291243e-02\n",
                        "S_bu_ion      3.872958e-02\n",
                        "S_pro_ion     2.012734e-02\n",
                        "S_ac_ion      2.661271e-01\n",
                        "S_hco3_ion    1.420562e-01\n",
                        "S_nh3         4.401494e-03\n",
                        "S_gas_h2      1.329100e-05\n",
                        "S_gas_ch4     1.657940e+00\n",
                        "S_gas_co2     1.523315e-02\n",
                        "S_co2         1.066687e-02\n",
                        "S_nh4_ion     1.469641e-01\n",
                        "q_gas         4.822757e+03\n",
                        "q_ch4         2.884495e+03\n",
                        "p_ch4         6.637155e-01\n",
                        "p_co2         3.903006e-01\n",
                        "VS            4.765659e+00\n",
                        "VSR           8.408891e-01\n",
                        "dtype: float64\n",
                        "\n",
                        "Digester parameter:\n",
                        "k_dis           0.233094\n",
                        "k_hyd_ch        5.188451\n",
                        "k_hyd_pr       11.862257\n",
                        "k_hyd_li        2.395440\n",
                        "k_m_su         47.680099\n",
                        "k_m_aa         48.671208\n",
                        "k_m_fa          4.467238\n",
                        "k_m_c4         17.638841\n",
                        "k_m_pro         9.909913\n",
                        "k_m_ac         10.238840\n",
                        "k_m_h2         28.744997\n",
                        "k_dec           0.014517\n",
                        "K_S_IN          0.000095\n",
                        "K_S_su          0.292734\n",
                        "K_S_aa          0.286818\n",
                        "K_S_fa          0.578581\n",
                        "K_S_c4          0.398674\n",
                        "K_S_pro         0.064829\n",
                        "K_S_ac          0.243271\n",
                        "K_S_h2          0.000006\n",
                        "K_I_h2_fa       0.000006\n",
                        "K_I_h2_c4       0.000011\n",
                        "K_I_h2_pro      0.000003\n",
                        "K_I_nh3         0.002051\n",
                        "pH_UL:LL_aa     1.360708\n",
                        "pH_LL_aa        4.428669\n",
                        "pH_UL:LL_ac     1.001503\n",
                        "pH_LL_ac        4.756150\n",
                        "pH_UL:LL_h2     1.606342\n",
                        "pH_LL_h2        6.051230\n",
                        "dtype: float64\n",
                        "\n",
                        "Digester feed:\n",
                        "     time  S_su  S_aa  S_fa  S_va  S_bu  S_pro  S_ac  S_h2  S_ch4  ...  X_aa  \\\n",
                        "0    0.00   0.0   0.0   0.0   0.0   0.0    0.0   0.0   0.0    0.0  ...   0.0   \n",
                        "1    0.25   0.0   0.0   0.0   0.0   0.0    0.0   0.0   0.0    0.0  ...   0.0   \n",
                        "2    0.50   0.0   0.0   0.0   0.0   0.0    0.0   0.0   0.0    0.0  ...   0.0   \n",
                        "3    0.75   0.0   0.0   0.0   0.0   0.0    0.0   0.0   0.0    0.0  ...   0.0   \n",
                        "4    1.00   0.0   0.0   0.0   0.0   0.0    0.0   0.0   0.0    0.0  ...   0.0   \n",
                        "..    ...   ...   ...   ...   ...   ...    ...   ...   ...    ...  ...   ...   \n",
                        "95  23.75   0.0   0.0   0.0   0.0   0.0    0.0   0.0   0.0    0.0  ...   0.0   \n",
                        "96  24.00   0.0   0.0   0.0   0.0   0.0    0.0   0.0   0.0    0.0  ...   0.0   \n",
                        "97  24.25   0.0   0.0   0.0   0.0   0.0    0.0   0.0   0.0    0.0  ...   0.0   \n",
                        "98  24.50   0.0   0.0   0.0   0.0   0.0    0.0   0.0   0.0    0.0  ...   0.0   \n",
                        "99  24.75   0.0   0.0   0.0   0.0   0.0    0.0   0.0   0.0    0.0  ...   0.0   \n",
                        "\n",
                        "    X_fa  X_c4  X_pro  X_ac  X_h2  X_I  S_cation  S_anion           Q  \n",
                        "0    0.0   0.0    0.0   0.0   0.0  0.0       0.0      0.0  238.000000  \n",
                        "1    0.0   0.0    0.0   0.0   0.0  0.0       0.0      0.0  238.285755  \n",
                        "2    0.0   0.0    0.0   0.0   0.0  0.0       0.0      0.0  238.574652  \n",
                        "3    0.0   0.0    0.0   0.0   0.0  0.0       0.0      0.0  238.866686  \n",
                        "4    0.0   0.0    0.0   0.0   0.0  0.0       0.0      0.0  239.161851  \n",
                        "..   ...   ...    ...   ...   ...  ...       ...      ...         ...  \n",
                        "95   0.0   0.0    0.0   0.0   0.0  0.0       0.0      0.0  273.615335  \n",
                        "96   0.0   0.0    0.0   0.0   0.0  0.0       0.0      0.0  273.992209  \n",
                        "97   0.0   0.0    0.0   0.0   0.0  0.0       0.0      0.0  274.367363  \n",
                        "98   0.0   0.0    0.0   0.0   0.0  0.0       0.0      0.0  274.740769  \n",
                        "99   0.0   0.0    0.0   0.0   0.0  0.0       0.0      0.0  275.112399  \n",
                        "\n",
                        "[100 rows x 28 columns]\n",
                        "\n"
                    ]
                }
            ],
            "source": [
                "print(f\"Digester info:\\n{dig_info}\\n\")\n",
                "print(f\"Digester initial:\\n{ini_state}\\n\")\n",
                "print(f\"Digester parameter:\\n{param}\\n\")\n",
                "print(f\"Digester feed:\\n{feed}\\n\")"
            ]
        },
        {
            "cell_type": "markdown",
            "metadata": {},
            "source": [
                "## Basic operations\n",
                "\n",
                "ADM1 model is called through run_adm1"
            ]
        },
        {
            "cell_type": "code",
            "execution_count": 3,
            "metadata": {},
            "outputs": [],
            "source": [
                "pred = adm1.run_adm1(param=param, influent_state=feed, initial_state=ini_state, digester_info=dig_info)"
            ]
        },
        {
            "cell_type": "markdown",
            "metadata": {},
            "source": [
                "The derivative of the model is assessed using adm1_derivative function. This outputs an array of shape (p, t, d), where p is the number of parameter directions on which the derivative is computed, t the time and d the number of predictions (not counting time).\n",
                "\n",
                "Note that the derivative computation is unstable, as it is impacted by the max_step argument used by the ordinary differential equation solver. Using low max_step value somewhat solves the problem, but results in an increased computation time. One should tweak the 'max_step' and 'rel_step' argument in adm1_derivative to assess the quality of the gradient estimation."
            ]
        },
        {
            "cell_type": "code",
            "execution_count": 4,
            "metadata": {},
            "outputs": [
                {
                    "data": {
                        "text/plain": [
                            "array([[1.04294787, 1.05574903, 0.05443636, ..., 1.4473525 , 1.03716412,\n",
                            "        1.03716378],\n",
                            "       [1.03525794, 1.0354201 , 0.69510398, ..., 1.02894049, 1.0320365 ,\n",
                            "        1.03203733],\n",
                            "       [1.03186974, 1.03310189, 0.8466148 , ..., 1.01529799, 1.02828063,\n",
                            "        1.02828055],\n",
                            "       ...,\n",
                            "       [0.98279731, 0.98224138, 1.04313949, ..., 0.99973938, 1.0046618 ,\n",
                            "        1.00466188],\n",
                            "       [0.97981569, 0.98164721, 1.03953629, ..., 0.99976086, 1.00432902,\n",
                            "        1.00432887],\n",
                            "       [0.97741223, 0.97582663, 1.03625809, ..., 0.99978579, 1.00402903,\n",
                            "        1.00402913]])"
                        ]
                    },
                    "execution_count": 4,
                    "metadata": {},
                    "output_type": "execute_result"
                }
            ],
            "source": [
                "adm1_der = adm1.adm1_derivative(\n",
                "    param=param,\n",
                "    params_to_der=params_to_calib,\n",
                "    influent_state=feed,\n",
                "    initial_state=ini_state,\n",
                "    digester_info=dig_info,\n",
                "    log_adm1=False\n",
                ")\n",
                "\n",
                "# One can assess the quality of the derivative in the following fashion\n",
                "import numpy as np\n",
                "\n",
                "param_mod = param.copy()\n",
                "pred = adm1.run_adm1(param, feed, ini_state, dig_info, max_step= 0.5 / (60 * 24))\n",
                "param_pd = param_mod.to_pandas()\n",
                "perturb = np.random.normal(0,10 ** (-4), 2)\n",
                "param_pd[params_to_calib] += perturb # param_mod is modified by side effect\n",
                "\n",
                "pred_perturb = adm1.run_adm1(param_mod, feed, ini_state,  dig_info, max_step=0.5 / (60 * 24))\n",
                "np.array((pred_perturb - pred))[:, 1:] / np.tensordot(perturb, adm1_der, (0, 0)) # These should be all 1."
            ]
        },
        {
            "cell_type": "markdown",
            "metadata": {},
            "source": [
                "## Sensitivity analysis\n",
                "\n",
                "Routines for sensitivity analysis are implemented in module SA. A global sensitivity analysis based on Morris method or a local sensitivity analysis can be performed."
            ]
        },
        {
            "cell_type": "code",
            "execution_count": 5,
            "metadata": {},
            "outputs": [
                {
                    "name": "stdout",
                    "output_type": "stream",
                    "text": [
                        "\n",
                        "============================\n",
                        " Sensitivity Analysis - Global\n",
                        "\n",
                        "Prepare morris lines\n",
                        "Evaluation of morris lines\n",
                        "k_dis: 0.0010401819803000578\n",
                        "k_dis: 0.0011212991441682375\n",
                        "k_dis: 0.0015165839848367904\n",
                        "k_dis: 0.021424037895653718\n",
                        "k_dis: 0.0007160534930556711\n",
                        "k_dis: 0.0011640377295408667\n",
                        "k_dis: 0.003691794046707125\n",
                        "k_dis: 0.012843624957481108\n",
                        "k_hyd_ch: 0.0005832648003656019\n",
                        "k_hyd_ch: 0.0005398906385537995\n",
                        "k_hyd_ch: 0.0006603213180253949\n",
                        "k_hyd_ch: 0.013313279309587488\n",
                        "k_hyd_ch: 0.0003445165111213092\n",
                        "k_hyd_ch: 0.0003866640697286307\n",
                        "k_hyd_pr: 0.002691698735361234\n",
                        "k_hyd_ch: 0.0012399610414241123\n",
                        "k_hyd_ch: 0.00850698717287923\n",
                        "k_hyd_pr: 0.0011696671802459229\n",
                        "k_hyd_pr: 0.002075043319620834\n",
                        "k_hyd_pr: 0.012577537045020655\n",
                        "k_hyd_pr: 0.0009823938257394367\n",
                        "k_hyd_li: 0.00046324077867930275\n",
                        "k_hyd_pr: 0.0009388263635177079\n",
                        "k_hyd_li: 0.0005375673357304563\n",
                        "k_hyd_pr: 0.0021685463842794892\n",
                        "k_hyd_li: 0.00018631166065156548\n",
                        "k_hyd_li: 0.009642798114605956\n",
                        "k_hyd_li: 5.691833893518501e-05\n",
                        "k_hyd_pr: 0.007594612683117119\n",
                        "k_m_su: 0.0001630669082026333\n",
                        "k_m_su: 0.00013914482682465785\n",
                        "k_hyd_li: 0.00037491341780118356\n",
                        "k_m_su: 0.00014459596965888728\n",
                        "k_m_su: 0.009403669217943684\n",
                        "k_m_su: 4.1788181393885515e-05\n",
                        "k_hyd_li: 0.00011019052692969573\n",
                        "k_m_aa: 0.00013334581457528913\n",
                        "k_hyd_li: 0.006153467081067367\n",
                        "k_m_aa: 4.912293171183167e-05\n",
                        "k_m_aa: 6.458618321197616e-05\n",
                        "k_m_aa: 0.00749601206965307\n",
                        "k_m_su: 0.00015056299539507607\n",
                        "k_m_aa: 9.407445612560878e-05\n",
                        "k_m_fa: 0.001270646593706799\n",
                        "k_m_su: 0.004625689693939636\n",
                        "k_m_su: 0.006066554346884764\n",
                        "k_m_fa: 0.002446660818978432\n",
                        "k_m_fa: 0.001042939537748931\n",
                        "k_m_fa: 0.011549578293976659\n",
                        "k_m_fa: 0.00143771873162019\n",
                        "k_m_c4: 0.06629530372427485\n",
                        "k_m_aa: 0.00013334215859727295\n",
                        "k_m_aa: 0.0006686536805351358\n",
                        "k_m_c4: 0.06156294224881713\n",
                        "k_m_c4: 0.06666814284118\n",
                        "k_m_aa: 0.0050846347857732305\n",
                        "k_m_pro: 0.055489452274177016\n",
                        "k_m_c4: 0.06252113474799902\n",
                        "k_m_c4: 0.06338001254889598\n",
                        "k_m_fa: 0.0004858628116779302\n",
                        "k_m_fa: 0.012564288699017129\n",
                        "k_m_pro: 0.05323816036059467\n",
                        "k_m_pro: 0.04738424491805764\n",
                        "k_m_ac: 0.10806165581739875\n",
                        "k_m_pro: 0.061527493618416605\n",
                        "k_m_fa: 0.006897083307200357k_m_pro: 0.05436419124157821\n",
                        "\n",
                        "k_m_c4: 0.06475861159333526\n",
                        "k_m_ac: 0.1493034112790509\n",
                        "k_m_h2: 0.015061372106047912\n",
                        "k_m_ac: 0.12092815757674177\n",
                        "k_m_c4: 0.17038225977666985\n",
                        "k_m_ac: 0.10947956812330971\n",
                        "k_m_ac: 0.10546167206109747\n",
                        "k_m_c4: 0.0613600621940865\n",
                        "k_m_h2: 0.005879141847601599\n",
                        "k_dec: 0.022532281063359035\n",
                        "k_m_pro: 0.055880645819131936\n",
                        "k_m_h2: 0.004670167143553849\n",
                        "k_m_h2: 0.007592733785277245\n",
                        "k_m_h2: 0.008725535699385308\n",
                        "k_m_pro: 0.12554262405939431\n",
                        "k_dec: 0.036192342206669614\n",
                        "k_m_pro: 0.06313027452449682\n",
                        "K_S_IN: 7.63252303893231e-05\n",
                        "k_m_ac: 0.0849960585292265\n",
                        "k_dec: 0.03675497855619511\n",
                        "k_dec: 0.02701124715994491\n",
                        "k_dec: 0.031744646515324285\n",
                        "k_m_ac: 0.372947191596244\n",
                        "K_S_IN: 3.800592665970698e-05\n",
                        "K_S_su: 8.536355759454928e-05\n",
                        "k_m_ac: 0.09280869481265488\n",
                        "K_S_IN: 0.003737353512637301\n",
                        "K_S_IN: 3.280081664553368e-05\n",
                        "K_S_IN: 3.2483281335537454e-05\n",
                        "K_S_su: 0.00012092328335706959\n",
                        "k_m_h2: 0.009423431052915373\n",
                        "k_m_h2: 0.01598344077916084\n",
                        "K_S_aa: 6.473813889842037e-05\n",
                        "K_S_su: 0.0032222550652906464\n",
                        "K_S_su: 4.373154749630976e-05\n",
                        "K_S_aa: 2.4436206515333772e-05\n",
                        "k_m_h2: 0.005346520740191369\n",
                        "K_S_su: 0.00012639409866820194\n",
                        "K_S_fa: 0.0006068888756038912\n",
                        "k_dec: 0.014761664360957103\n",
                        "k_dec: 0.11722318452591655\n",
                        "K_S_aa: 0.0031092856918359386\n",
                        "K_S_aa: 3.9891926520188e-05K_S_fa: 0.0019909719551157593\n",
                        "\n",
                        "K_S_c4: 0.1161011341890211\n",
                        "k_dec: 0.03136510548410043\n",
                        "K_S_aa: 2.1377875025067058e-05\n",
                        "K_S_IN: 5.220630760611424e-05\n",
                        "K_S_IN: 0.00013117601731086346\n",
                        "K_S_c4: 0.1161006837063538\n",
                        "K_S_fa: 0.004043000234528309\n",
                        "K_S_fa: 0.0013731793887856703\n",
                        "K_S_pro: 0.04107064571103539\n",
                        "K_S_fa: 0.0006190585717326497\n",
                        "K_S_IN: 0.0029085196223247994\n",
                        "K_S_su: 5.230573030053325e-05\n",
                        "K_S_pro: 0.0410636942760532\n",
                        "K_S_c4: 0.11607747203041102\n",
                        "K_S_c4: 0.11609453354875242\n",
                        "K_S_ac: 0.03548890677212817\n",
                        "K_S_su: 0.0017876084252787096\n",
                        "K_S_c4: 0.11608555376416005\n",
                        "K_S_su: 0.0026020726828261506\n",
                        "K_S_ac: 0.030588762464492075\n",
                        "K_S_pro: 0.04121713292255486\n",
                        "K_S_pro: 0.04106907554830129\n",
                        "K_S_aa: 3.47839731339548e-05\n",
                        "K_S_h2: 0.01526674198749019\n",
                        "K_S_aa: 0.00014841183564424647\n",
                        "K_S_h2: 0.006455017170784784\n",
                        "K_S_pro: 0.041061121356143426\n",
                        "K_S_aa: 0.002451427178830819\n",
                        "K_S_ac: 0.037129564558620105\n",
                        "K_I_h2_fa: 3.606132622086583e-05\n",
                        "K_S_ac: 0.03849405715629829\n",
                        "K_S_fa: 0.00023863124273576836\n",
                        "K_S_fa: 0.00663361551659352\n",
                        "K_I_h2_fa: 3.2180708704416245e-05\n",
                        "K_S_ac: 0.022129774983633277\n",
                        "K_I_h2_c4: 0.0027916918644187104\n",
                        "K_S_h2: 0.005260463551884284\n",
                        "K_S_h2: 0.006886961357975408\n",
                        "K_S_fa: 0.003425423229268096\n",
                        "K_S_c4: 0.1161329375822147\n",
                        "K_I_h2_c4: 0.0009872675489240135\n",
                        "K_I_h2_pro: 0.005462385018335742\n",
                        "K_S_c4: 0.11013790454934579\n",
                        "K_I_h2_fa: 0.0018010677124135485\n",
                        "K_I_h2_fa: 3.401186744062167e-05\n",
                        "K_S_h2: 0.004896963473631463\n",
                        "K_S_c4: 0.11613103793565449\n",
                        "K_I_h2_pro: 0.0022546988192032043\n",
                        "K_S_pro: 0.04109624335269807\n",
                        "K_I_nh3: 0.031064620590051606\n",
                        "K_I_h2_c4: 0.0017828555162337318\n",
                        "K_I_h2_c4: 0.0008401852630931407\n",
                        "K_I_h2_fa: 1.2572045461265519e-05\n",
                        "K_S_pro: 0.03983174474187786\n",
                        "K_S_pro: 0.041005229784265435\n",
                        "K_I_nh3: 0.04864856532698489\n",
                        "pH_UL:LL_aa: 7.721305275186835e-05\n",
                        "K_I_h2_pro: 0.0025367975395810083\n",
                        "K_S_ac: 0.006952105664120818\n",
                        "K_I_h2_pro: 0.002643987358730911\n",
                        "K_I_h2_c4: 0.0008555130898882235\n",
                        "K_S_ac: 0.023775653330455986\n",
                        "pH_UL:LL_aa: 2.7753238315763554e-09\n",
                        "pH_LL_aa: 2.3901978066190477e-05\n",
                        "K_S_ac: 0.005402090679726159\n",
                        "K_I_nh3: 0.033747336911609305\n",
                        "K_I_nh3: 0.030613442955131024\n",
                        "K_S_h2: 0.009625005677805819\n",
                        "pH_LL_aa: 4.701353034135524e-08\n",
                        "pH_UL:LL_ac: 9.818663189289276e-07\n",
                        "K_I_h2_pro: 0.0016767223545867327\n",
                        "K_S_h2: 0.018787208565249233\n",
                        "pH_UL:LL_aa: 0.004982908674103423\n",
                        "K_S_h2: 0.005257480808260123\n",
                        "pH_UL:LL_aa: 4.189108122285713e-08\n",
                        "pH_UL:LL_ac: 2.505027671281288e-06\n",
                        "K_I_h2_fa: 1.4997939564324699e-05\n",
                        "pH_LL_ac: 8.921150620916214e-07\n",
                        "K_I_nh3: 0.034437982125960255\n",
                        "pH_LL_aa: 0.0061201992626869605\n",
                        "K_I_h2_fa: 0.0002571484512457016\n",
                        "pH_LL_aa: 1.6874693856578062e-07\n",
                        "K_I_h2_fa: 0.0011154285212086948\n",
                        "pH_LL_ac: 1.8761093497384156e-06\n",
                        "pH_UL:LL_h2: 8.267876868505554e-07\n",
                        "K_I_h2_c4: 0.001477545925459209\n",
                        "pH_UL:LL_ac: 0.0008091825024025708\n",
                        "pH_UL:LL_aa: 5.116904809924459e-07\n",
                        "pH_UL:LL_h2: 1.2108613778221951e-08\n",
                        "pH_UL:LL_ac: 0.00010136090264950948\n",
                        "K_I_h2_c4: 0.0031571911204436314\n",
                        "pH_LL_h2: 7.521151847457996e-07\n",
                        "K_I_h2_c4: 0.0011253065114498304\n",
                        "pH_LL_ac: 0.0007352627555362219\n",
                        "K_I_h2_pro: 0.0036195581632854643\n",
                        "pH_LL_h2: 1.0958383897676967e-08\n",
                        "pH_LL_ac: 0.00010393362965058938\n",
                        "pH_LL_aa: 4.164437043583066e-08\n",
                        "K_I_h2_pro: 0.00713723852156449\n",
                        "K_I_h2_pro: 0.0021430606023448515\n",
                        "pH_UL:LL_h2: 0.0006829732601005797\n",
                        "K_I_nh3: 0.01796190408514403\n",
                        "pH_UL:LL_h2: 2.6652476523334955e-12\n",
                        "k_dis: 0.0008107214861251517\n",
                        "pH_UL:LL_ac: 1.699497454232691e-09\n",
                        "K_I_nh3: 0.09152300773658577\n",
                        "K_I_nh3: 0.022591361255222233\n",
                        "pH_LL_h2: 0.0006219995569808967\n",
                        "k_dis: 0.02396630752303896\n",
                        "pH_LL_h2: 8.943664162722148e-12\n",
                        "k_hyd_ch: 0.0001921362735864112\n",
                        "pH_UL:LL_aa: 6.91858490054995e-05\n",
                        "pH_LL_ac: 6.299449256777537e-09\n",
                        "pH_UL:LL_aa: 0.2851419800997116\n",
                        "k_hyd_ch: 0.016082728083023565\n",
                        "pH_UL:LL_aa: 0.0030758280105745816\n",
                        "k_hyd_pr: 0.0016229705855932636\n",
                        "pH_LL_aa: 0.00045574829178922496\n",
                        "pH_UL:LL_h2: 1.0180835251474507e-09\n",
                        "k_hyd_pr: 0.015754759352106837\n",
                        "pH_LL_aa: 1.0490691538803887\n",
                        "pH_LL_aa: 0.0009068120483288665\n",
                        "k_hyd_li: 0.00030544058790682525\n",
                        "pH_UL:LL_ac: 0.0068116163704560785\n",
                        "k_hyd_li: 0.011506163183259975\n",
                        "pH_LL_h2: 9.223303331101234e-10\n",
                        "k_m_su: 0.00020629496241981264\n",
                        "pH_UL:LL_ac: 5.216018900757826e-06\n",
                        "pH_UL:LL_ac: 7.460070678086055e-05\n",
                        "k_m_su: 0.01119829257763544\n",
                        "pH_LL_ac: 0.014206913747956667\n",
                        "k_m_aa: 8.192057520332323e-05\n",
                        "pH_LL_ac: 7.052075562205957e-06\n",
                        "pH_LL_ac: 6.785554734351553e-05\n",
                        "k_m_aa: 0.00882688422358279\n",
                        "pH_UL:LL_h2: 0.00010104404882949289\n",
                        "k_m_fa: 0.0014829078942638343\n",
                        "pH_UL:LL_h2: 8.825044651424088e-06\n",
                        "k_m_fa: 0.009124875285468008\n",
                        "pH_UL:LL_h2: 0.00022373074683455815\n",
                        "k_m_c4: 0.06541466797756337\n",
                        "pH_LL_h2: 9.179440573296472e-05\n",
                        "k_m_c4: 0.061408611339937226\n",
                        "pH_LL_h2: 3.236140319640648e-06\n",
                        "pH_LL_h2: 0.0001016520513380312\n",
                        "k_m_pro: 0.0590253539045362\n",
                        "k_m_pro: 0.046928607435330956\n",
                        "k_m_ac: 0.07786298777586592\n",
                        "k_m_ac: 0.11489287048359861\n",
                        "k_m_h2: 0.003680584848281688\n",
                        "k_m_h2: 0.004209320934196328\n",
                        "k_dec: 0.015498292352360825\n",
                        "k_dec: 0.017002373966579144\n",
                        "K_S_IN: 6.4009046252372e-05\n",
                        "K_S_IN: 0.005321500939329446\n",
                        "K_S_su: 8.753417395942734e-05\n",
                        "K_S_su: 0.004643869107548833\n",
                        "K_S_aa: 4.615753387186432e-05\n",
                        "K_S_aa: 0.004364457194251935\n",
                        "K_S_fa: 0.0008663836682887856\n",
                        "K_S_fa: 0.00312785050270769\n",
                        "K_S_c4: 0.11620375753147237\n",
                        "K_S_c4: 0.1161214453402381\n",
                        "K_S_pro: 0.04111069673671982\n",
                        "K_S_pro: 0.04107485378826502\n",
                        "K_S_ac: 0.03705437672247636\n",
                        "K_S_ac: 0.03991015480051723\n",
                        "K_S_h2: 0.006346493041984961\n",
                        "K_S_h2: 0.003625510577227437\n",
                        "K_I_h2_fa: 0.0026646423854184142\n",
                        "K_I_h2_fa: 2.5021406353311636e-05\n",
                        "K_I_h2_c4: 0.0024191832665857714\n",
                        "K_I_h2_c4: 0.0005148587998238548\n",
                        "K_I_h2_pro: 0.0023805731203667725\n",
                        "K_I_h2_pro: 0.0012060707197352413\n",
                        "K_I_nh3: 0.037810456917087384\n",
                        "K_I_nh3: 0.023181085905280303\n",
                        "pH_UL:LL_aa: 0.009086992297364435\n",
                        "pH_UL:LL_aa: 5.981221057620247e-05\n",
                        "pH_LL_aa: 0.03500572305408993\n",
                        "pH_LL_aa: 7.538618104497307e-05\n",
                        "pH_UL:LL_ac: 0.007742632585089282\n",
                        "pH_UL:LL_ac: 8.225175012293021e-05\n",
                        "pH_LL_ac: 0.007035774231344143\n",
                        "pH_LL_ac: 8.425984895880692e-05\n",
                        "pH_UL:LL_h2: 0.006515164696036964\n",
                        "pH_UL:LL_h2: 1.5416519350021474e-05\n",
                        "pH_LL_h2: 0.005942471121084497\n",
                        "pH_LL_h2: 1.4011660935933796e-05\n",
                        "\n",
                        "Sensitivity Analysis completed\n",
                        " ==============\n",
                        "\n"
                    ]
                },
                {
                    "data": {
                        "text/html": [
                            "<div>\n",
                            "<style scoped>\n",
                            "    .dataframe tbody tr th:only-of-type {\n",
                            "        vertical-align: middle;\n",
                            "    }\n",
                            "\n",
                            "    .dataframe tbody tr th {\n",
                            "        vertical-align: top;\n",
                            "    }\n",
                            "\n",
                            "    .dataframe thead th {\n",
                            "        text-align: right;\n",
                            "    }\n",
                            "</style>\n",
                            "<table border=\"1\" class=\"dataframe\">\n",
                            "  <thead>\n",
                            "    <tr style=\"text-align: right;\">\n",
                            "      <th></th>\n",
                            "      <th>k_dis</th>\n",
                            "      <th>k_hyd_ch</th>\n",
                            "      <th>k_hyd_pr</th>\n",
                            "      <th>k_hyd_li</th>\n",
                            "      <th>k_m_su</th>\n",
                            "      <th>k_m_aa</th>\n",
                            "      <th>k_m_fa</th>\n",
                            "      <th>k_m_c4</th>\n",
                            "      <th>k_m_pro</th>\n",
                            "      <th>k_m_ac</th>\n",
                            "      <th>...</th>\n",
                            "      <th>K_I_h2_fa</th>\n",
                            "      <th>K_I_h2_c4</th>\n",
                            "      <th>K_I_h2_pro</th>\n",
                            "      <th>K_I_nh3</th>\n",
                            "      <th>pH_UL:LL_aa</th>\n",
                            "      <th>pH_LL_aa</th>\n",
                            "      <th>pH_UL:LL_ac</th>\n",
                            "      <th>pH_LL_ac</th>\n",
                            "      <th>pH_UL:LL_h2</th>\n",
                            "      <th>pH_LL_h2</th>\n",
                            "    </tr>\n",
                            "  </thead>\n",
                            "  <tbody>\n",
                            "    <tr>\n",
                            "      <th>mean</th>\n",
                            "      <td>0.068295</td>\n",
                            "      <td>0.041850</td>\n",
                            "      <td>0.047576</td>\n",
                            "      <td>0.029337</td>\n",
                            "      <td>0.032140</td>\n",
                            "      <td>0.022633</td>\n",
                            "      <td>0.048303</td>\n",
                            "      <td>0.743752</td>\n",
                            "      <td>0.622511</td>\n",
                            "      <td>1.336742</td>\n",
                            "      <td>...</td>\n",
                            "      <td>0.005993</td>\n",
                            "      <td>0.015952</td>\n",
                            "      <td>0.031061</td>\n",
                            "      <td>0.371580</td>\n",
                            "      <td>0.302494</td>\n",
                            "      <td>1.091657</td>\n",
                            "      <td>0.015630</td>\n",
                            "      <td>0.022244</td>\n",
                            "      <td>0.007548</td>\n",
                            "      <td>0.006776</td>\n",
                            "    </tr>\n",
                            "    <tr>\n",
                            "      <th>sd</th>\n",
                            "      <td>0.086759</td>\n",
                            "      <td>0.057969</td>\n",
                            "      <td>0.050974</td>\n",
                            "      <td>0.042186</td>\n",
                            "      <td>0.041094</td>\n",
                            "      <td>0.033051</td>\n",
                            "      <td>0.044940</td>\n",
                            "      <td>0.320592</td>\n",
                            "      <td>0.216865</td>\n",
                            "      <td>0.819773</td>\n",
                            "      <td>...</td>\n",
                            "      <td>0.008982</td>\n",
                            "      <td>0.008645</td>\n",
                            "      <td>0.017446</td>\n",
                            "      <td>0.199074</td>\n",
                            "      <td>0.850133</td>\n",
                            "      <td>3.134706</td>\n",
                            "      <td>0.028739</td>\n",
                            "      <td>0.044991</td>\n",
                            "      <td>0.019307</td>\n",
                            "      <td>0.017643</td>\n",
                            "    </tr>\n",
                            "  </tbody>\n",
                            "</table>\n",
                            "<p>2 rows × 30 columns</p>\n",
                            "</div>"
                        ],
                        "text/plain": [
                            "         k_dis  k_hyd_ch  k_hyd_pr  k_hyd_li    k_m_su    k_m_aa    k_m_fa  \\\n",
                            "mean  0.068295  0.041850  0.047576  0.029337  0.032140  0.022633  0.048303   \n",
                            "sd    0.086759  0.057969  0.050974  0.042186  0.041094  0.033051  0.044940   \n",
                            "\n",
                            "        k_m_c4   k_m_pro    k_m_ac  ...  K_I_h2_fa  K_I_h2_c4  K_I_h2_pro  \\\n",
                            "mean  0.743752  0.622511  1.336742  ...   0.005993   0.015952    0.031061   \n",
                            "sd    0.320592  0.216865  0.819773  ...   0.008982   0.008645    0.017446   \n",
                            "\n",
                            "       K_I_nh3  pH_UL:LL_aa  pH_LL_aa  pH_UL:LL_ac  pH_LL_ac  pH_UL:LL_h2  \\\n",
                            "mean  0.371580     0.302494  1.091657     0.015630  0.022244     0.007548   \n",
                            "sd    0.199074     0.850133  3.134706     0.028739  0.044991     0.019307   \n",
                            "\n",
                            "      pH_LL_h2  \n",
                            "mean  0.006776  \n",
                            "sd    0.017643  \n",
                            "\n",
                            "[2 rows x 30 columns]"
                        ]
                    },
                    "execution_count": 5,
                    "metadata": {},
                    "output_type": "execute_result"
                }
            ],
            "source": [
                "adm1.SA.global_sensitivity(\n",
                "    feed,\n",
                "    ini_state,\n",
                "    dig_info,\n",
                "    r=10,\n",
                "    n_lev=10,\n",
                ") # Generates a lot of prints!"
            ]
        },
        {
            "cell_type": "code",
            "execution_count": 6,
            "metadata": {},
            "outputs": [
                {
                    "name": "stdout",
                    "output_type": "stream",
                    "text": [
                        "\n",
                        "============================\n",
                        " Sensitivity Analysis - Local\n",
                        "\n",
                        "k_m_fa: 0.018504288404978433\n",
                        "k_m_aa: 0.014460586658606913k_hyd_li: 0.0145660137928131\n",
                        "\n",
                        "k_dis: 0.014685963829283416\n",
                        "k_hyd_ch: 0.015701945511622555\n",
                        "k_m_c4: 0.5175464328269953\n",
                        "k_hyd_pr: 0.017052663395270787\n",
                        "k_m_su: 0.01445818402003352\n",
                        "k_m_pro: 0.4480629161670144\n",
                        "k_m_h2: 0.05361336571866699\n",
                        "K_S_IN: 0.014470318255216087\n",
                        "k_m_ac: 0.725701908894204\n",
                        "k_dec: 0.12347464569819569\n",
                        "K_S_su: 0.014458120718901412\n",
                        "K_S_aa: 0.014460545275505077\n",
                        "K_S_fa: 0.016151380603748385\n",
                        "K_S_c4: 0.4716768055770728\n",
                        "K_S_pro: 0.33365408249116446\n",
                        "K_I_h2_pro: 0.046937350736707614\n",
                        "K_I_h2_fa: 0.014470984905936448\n",
                        "K_S_ac: 0.3129823387924235\n",
                        "K_I_h2_c4: 0.02221663207842576\n",
                        "K_I_nh3: 0.4985384572050268\n",
                        "K_S_h2: 0.05078242168979906\n",
                        "pH_UL:LL_aa: 0.014457592345072994\n",
                        "pH_LL_ac: 0.014456756637088885\n",
                        "pH_LL_aa: 0.014459112645930729\n",
                        "pH_UL:LL_ac: 0.014456653749304556\n",
                        "pH_UL:LL_h2: 0.027782564026243874\n",
                        "pH_LL_h2: 0.1063649154725847\n"
                    ]
                },
                {
                    "data": {
                        "text/plain": [
                            "k_dis          0.014686\n",
                            "k_hyd_ch       0.015702\n",
                            "k_hyd_pr       0.017053\n",
                            "k_hyd_li       0.014566\n",
                            "k_m_su         0.014458\n",
                            "k_m_aa         0.014461\n",
                            "k_m_fa         0.018504\n",
                            "k_m_c4         0.517546\n",
                            "k_m_pro        0.448063\n",
                            "k_m_ac         0.725702\n",
                            "k_m_h2         0.053613\n",
                            "k_dec          0.123475\n",
                            "K_S_IN         0.014470\n",
                            "K_S_su         0.014458\n",
                            "K_S_aa         0.014461\n",
                            "K_S_fa         0.016151\n",
                            "K_S_c4         0.471677\n",
                            "K_S_pro        0.333654\n",
                            "K_S_ac         0.312982\n",
                            "K_S_h2         0.050782\n",
                            "K_I_h2_fa      0.014471\n",
                            "K_I_h2_c4      0.022217\n",
                            "K_I_h2_pro     0.046937\n",
                            "K_I_nh3        0.498538\n",
                            "pH_UL:LL_aa    0.014458\n",
                            "pH_LL_aa       0.014459\n",
                            "pH_UL:LL_ac    0.014457\n",
                            "pH_LL_ac       0.014457\n",
                            "pH_UL:LL_h2    0.027783\n",
                            "pH_LL_h2       0.106365\n",
                            "dtype: float64"
                        ]
                    },
                    "execution_count": 6,
                    "metadata": {},
                    "output_type": "execute_result"
                }
            ],
            "source": [
                "adm1.SA.local_sensitivity(param, feed, ini_state, dig_info)"
            ]
        },
        {
            "cell_type": "markdown",
            "metadata": {},
            "source": [
                "## Optimisation routines"
            ]
        },
        {
            "cell_type": "code",
            "execution_count": 7,
            "metadata": {},
            "outputs": [
                {
                    "data": {
                        "image/png": "[encoded data removed]",
                        "text/plain": [
                            "<Figure size 640x480 with 1 Axes>"
                        ]
                    },
                    "metadata": {},
                    "output_type": "display_data"
                },
                {
                    "name": "stdout",
                    "output_type": "stream",
                    "text": [
                        "Prediction error: 0.059520968812647256\n"
                    ]
                }
            ],
            "source": [
                "# To showcase the pyadm1 package, we generate noisy observations\n",
                "from aduq.pyadm1._noise_data import noise_obs, noise_influent, noise_init_state\n",
                "import matplotlib.pyplot as plt\n",
                "\n",
                "obs = noise_obs(pred, noise_lev=0.1)\n",
                "plt.plot(pred.to_pandas()['time'], pred.to_pandas()[\"S_ac\"])\n",
                "plt.plot(obs.to_pandas()['time'], obs.to_pandas()[\"S_ac\"])\n",
                "plt.show()\n",
                "print(f\"Prediction error: {adm1.adm1_err(pred, obs)}\")"
            ]
        },
        {
            "cell_type": "code",
            "execution_count": 8,
            "metadata": {},
            "outputs": [
                {
                    "name": "stdout",
                    "output_type": "stream",
                    "text": [
                        "Score at step 0: 0.162790510404434\n",
                        "Score at step 4: 0.06023798121739283\n",
                        "Score at step 8: 0.0597881550779841\n",
                        "Score at step 12: 0.059787878448834916\n",
                        "Updating covariance radius\n",
                        "Score at step 16: 0.059787866006892024\n",
                        "Optimisation algorithm did not converge\n"
                    ]
                },
                {
                    "data": {
                        "text/plain": [
                            "[<matplotlib.lines.Line2D at 0x1329c50a0>]"
                        ]
                    },
                    "execution_count": 8,
                    "metadata": {},
                    "output_type": "execute_result"
                },
                {
                    "data": {
                        "image/png": "[encoded data removed]",
                        "text/plain": [
                            "<Figure size 640x480 with 1 Axes>"
                        ]
                    },
                    "metadata": {},
                    "output_type": "display_data"
                }
            ],
            "source": [
                "init_param = param.copy()\n",
                "param_pd = init_param.to_pandas()\n",
                "param_pd[params_to_calib] = param_pd[params_to_calib] * np.random.uniform(\n",
                "    0.4, 2.5, len(params_to_calib)\n",
                ")  # 5% average change to every parameter\n",
                "\n",
                "out = adm1.optim.optim_cma_adm1(\n",
                "    init_param=init_param,\n",
                "    obs=obs,\n",
                "    params_eval=params_to_calib,\n",
                "    chain_length=20,\n",
                "    influent_state=feed,\n",
                "    initial_state=ini_state,\n",
                "    digester_info=dig_info,\n",
                "    print_rec=4,\n",
                "    radius_factor=0.5,\n",
                "    radius_ini=.2\n",
                ")\n",
                "opti_param = out.opti_param\n",
                "\n",
                "import matplotlib.pyplot as plt\n",
                "\n",
                "plt.plot(out.hist_score)\n"
            ]
        },
        {
            "cell_type": "markdown",
            "metadata": {},
            "source": [
                "### Bayesian calibration\n",
                "__Iter prior procedure:__\n",
                "\n",
                "The iter prior step is designed to speed up the early task of the Bayesian calibration procedure, using a variant of CMA-ES algorithm training only a diagonal covariance, with an exit criteria based on the variational inference score. It can be called using adm1_iter_prior_vi function from optim submodule. Note that the opti_param attribute of the resulting OptimResult object describes a tensorized gaussian parameter, not a gaussian parameter. "
            ]
        },
        {
            "cell_type": "code",
            "execution_count": 9,
            "metadata": {},
            "outputs": [
                {
                    "name": "stdout",
                    "output_type": "stream",
                    "text": [
                        "Step 1/5 (mean score: inf, kl: 0.000000)\n",
                        "Step 2/5 (mean score: 0.578672, kl: 0.000000)\n",
                        "Step 3/5 (mean score: 0.416040, kl: 1.387738)\n",
                        "Step 4/5 (mean score: 0.281591, kl: 3.392986)\n",
                        "Step 5/5 (mean score: 0.249936, kl: 5.127283)\n",
                        "\n"
                    ]
                }
            ],
            "source": [
                "out = adm1.optim.adm1_iter_prior_vi(obs=obs, influent_state=feed, initial_state=ini_state, digester_info=dig_info,temperature=0.01, gen_per_step=60, chain_length=5, stop_tol=0.01, keep=30)\n",
                "\n",
                "post_param = out.opti_param\n",
                "\n",
                "# Conversion to parameter for GaussianMap\n",
                "from aduq.proba.gauss import tgauss_to_gauss_param\n",
                "post_param = tgauss_to_gauss_param(post_param)"
            ]
        },
        {
            "cell_type": "markdown",
            "metadata": {},
            "source": [
                "__Gradient descent Bayes__\n",
                "\n",
                "The bayesian calibration is performed using adm1_vi function from adm1.optim module.\n",
                "This method is computationally intensive and should be performed using parallel computations on large virtual machines.\n",
                "Note that the first steps are slow since building momentum is key.\n",
                "\n",
                "The bayesian calibration uses the variational class defined in adm1.proba module."
            ]
        },
        {
            "cell_type": "code",
            "execution_count": 10,
            "metadata": {},
            "outputs": [
                {
                    "name": "stdout",
                    "output_type": "stream",
                    "text": [
                        "Score at step 0: 0.25807362226738007 (KL: 6.902738482529353, score:0.18904623744208657)\n",
                        "Score at step 1: 0.26239104577769673 (KL: 6.902745591721828, score:0.19336358986047844)\n",
                        "Score at step 2: 0.2635444850007006 (KL: 6.902767685807838, score:0.19451680814262223)\n"
                    ]
                }
            ],
            "source": [
                "optim_res = adm1.optim.adm1_vi(\n",
                "    obs=obs,\n",
                "    influent_state=feed,\n",
                "    initial_state=ini_state,\n",
                "    digester_info=dig_info,\n",
                "    ini_post=post_param,\n",
                "    temperature=0.01,\n",
                "    chain_length=3,\n",
                "    index_train=adm1.distr_param_indexes,\n",
                "    per_step=100,\n",
                "    step_size=0.001,\n",
                "    momentum=0.9,\n",
                "    print_rec=1,\n",
                "    parallel=True,\n",
                ")"
            ]
        },
        {
            "cell_type": "markdown",
            "metadata": {},
            "source": [
                "## UQ module\n",
                "\n",
                "### Fisher's information"
            ]
        },
        {
            "cell_type": "code",
            "execution_count": 11,
            "metadata": {},
            "outputs": [
                {
                    "name": "stdout",
                    "output_type": "stream",
                    "text": [
                        "Noise level: 0.05989688410495282\n"
                    ]
                }
            ],
            "source": [
                "fim_out = adm1.UQ.adm1_fim(opti_param, obs, feed, ini_state, dig_info, ['K_S_ac', 'k_m_ac'], silent=True)"
            ]
        },
        {
            "cell_type": "code",
            "execution_count": 12,
            "metadata": {},
            "outputs": [
                {
                    "data": {
                        "text/plain": [
                            "0.738060558807931"
                        ]
                    },
                    "execution_count": 12,
                    "metadata": {},
                    "output_type": "execute_result"
                }
            ],
            "source": [
                "# One can access the p-value using adm1_fim_pval function\n",
                "adm1.UQ.adm1_fim_pval(param, opti_param, cov = fim_out[\"cov\"], inv_cov = fim_out[\"fisher\"] )"
            ]
        },
        {
            "cell_type": "code",
            "execution_count": 13,
            "metadata": {},
            "outputs": [
                {
                    "data": {
                        "image/png": "[encoded data removed]",
                        "text/plain": [
                            "<Figure size 640x480 with 1 Axes>"
                        ]
                    },
                    "metadata": {},
                    "output_type": "display_data"
                }
            ],
            "source": [
                "# And one can evaluate the uncertainty on the previsions using linear transfer of uncertainty and gaussian hypothesis\n",
                "\n",
                "output_UQ = adm1.UQ.adm1_fim_pred(\n",
                "    opti_predict=fim_out[\"opti_predict\"],\n",
                "    cov=fim_out[\"cov\"],\n",
                "    der_log_adm1=fim_out[\"der_log_adm1\"],\n",
                "    conf_lev=0.7,\n",
                ")\n",
                "\n",
                "low_quant = output_UQ[\"lower_quant\"].to_pandas()\n",
                "high_quant = output_UQ[\"upper_quant\"].to_pandas()\n",
                "plt.plot(low_quant[\"time\"], low_quant[\"S_ac\"], label=\"lower prediction quantile\")\n",
                "plt.plot(high_quant[\"time\"], high_quant[\"S_ac\"], label=\"higher prediction quantile\")\n",
                "plt.legend()\n",
                "plt.ylabel(\"S_ac\")\n",
                "plt.show()"
            ]
        },
        {
            "cell_type": "code",
            "execution_count": 14,
            "metadata": {},
            "outputs": [
                {
                    "name": "stdout",
                    "output_type": "stream",
                    "text": [
                        "\n",
                        "====================================\n",
                        "\n",
                        "Uncertainty quantification through error bound\n",
                        "\n",
                        "Optimal parameter:\n",
                        "K_S_ac     0.386003\n",
                        "k_m_ac    12.829666\n",
                        "dtype: float64\n",
                        "Parameter covariance:\n",
                        "          K_S_ac     k_m_ac\n",
                        "K_S_ac  0.033562   0.608754\n",
                        "k_m_ac  0.608754  11.049935\n",
                        "Parameter covariance in log space:\n",
                        "          K_S_ac    k_m_ac\n",
                        "K_S_ac  0.225248  0.122924\n",
                        "k_m_ac  0.122924  0.067132\n",
                        "Standard deviation in log space: [0.47460298 0.25909827]\n",
                        "Calling beale_boundary function.\n",
                        "Confidence region boundary is computed in log-parameters space.\n",
                        "Optimal parameter in this space is:\n",
                        "[-0.95190982  2.55176014]\n",
                        "Covariance is:\n",
                        "          K_S_ac    k_m_ac\n",
                        "K_S_ac  0.225248  0.122924\n",
                        "k_m_ac  0.122924  0.067132\n",
                        "\n",
                        "Confidence level: 0.99\n",
                        "Points on the boundary: 20\n",
                        "------------------\n",
                        "Threshold score is: 0.003745414960764764, while min score is: 0.0035876358252739577.\n",
                        "The ratio is 1.0439785817666591\n",
                        "Starting iteration 1Starting iteration 2Starting iteration 3\n",
                        "\n",
                        "\n",
                        "Starting iteration 4\n",
                        "Starting iteration 5\n",
                        "Starting iteration 6Starting iteration 7Starting iteration 8\n",
                        "\n",
                        "\n",
                        "Iteration succeeded\n",
                        "Parameter in log space: [-1.32555075  2.34480474]\n",
                        "Starting iteration 9\n",
                        "Iteration succeeded\n",
                        "Parameter in log space: [-1.18344654  2.45281795]\n",
                        "Starting iteration 10\n",
                        "Iteration succeeded\n",
                        "Parameter in log space: [-0.49926767  2.80274018]\n",
                        "Starting iteration 11\n",
                        "Iteration succeeded\n",
                        "Parameter in log space: [-1.28741195  2.36204696]\n",
                        "Starting iteration 12\n",
                        "Iteration succeeded\n",
                        "Parameter in log space: [-0.45806167  2.83006951]\n",
                        "Starting iteration 13\n",
                        "Iteration succeeded\n",
                        "Parameter in log space: [-0.44399135  2.83947848]\n",
                        "Starting iteration 14\n",
                        "Iteration succeeded\n",
                        "Parameter in log space: [-0.93901893  2.58048376]\n",
                        "Starting iteration 15\n",
                        "Iteration succeeded\n",
                        "Parameter in log space: [-0.67345824  2.69177446]\n",
                        "Starting iteration 16\n",
                        "Iteration succeeded\n",
                        "Parameter in log space: [-0.51356816  2.79316336]\n",
                        "Starting iteration 17\n",
                        "Iteration succeeded\n",
                        "Parameter in log space: [-1.35769932  2.33054499]\n",
                        "Starting iteration 18\n",
                        "Iteration succeeded\n",
                        "Parameter in log space: [-1.29963476  2.35665274]\n",
                        "Starting iteration 19\n",
                        "Iteration succeeded\n",
                        "Parameter in log space: [-0.5991879  2.7381223]\n",
                        "Starting iteration 20\n",
                        "Iteration succeeded\n",
                        "Parameter in log space: [-0.60892647  2.73191666]\n",
                        "Iteration succeeded\n",
                        "Parameter in log space: [-0.52098998  2.78830528]\n",
                        "Iteration succeeded\n",
                        "Parameter in log space: [-0.48517032  2.81205365]\n",
                        "Iteration succeeded\n",
                        "Parameter in log space: [-1.28740588  2.36192369]\n",
                        "Iteration succeeded\n",
                        "Parameter in log space: [-0.62517799  2.7214979 ]\n",
                        "Iteration succeeded\n",
                        "Parameter in log space: [-0.94566111  2.57646484]\n",
                        "Iteration succeeded\n",
                        "Parameter in log space: [-0.86906756  2.57604599]\n"
                    ]
                },
                {
                    "name": "stderr",
                    "output_type": "stream",
                    "text": [
                        "/Users/apicard/Documents/Suez/Git/ADUncertaintyQuantification/aduq/uncertainty/beale.py:248: UserWarning: 1/20 line searches procedure failed.\n",
                        "  warnings.warn(f\"{n_failed}/{n_boundary} line searches procedure failed.\")\n"
                    ]
                }
            ],
            "source": [
                "beale_out = adm1.UQ.adm1_beale(20, conf_lev=.99, cov=fim_out['cov'], param=opti_param, params_eval=params_to_calib, obs=obs,influent_state=feed, initial_state=ini_state,digester_info=dig_info)"
            ]
        },
        {
            "cell_type": "code",
            "execution_count": 15,
            "metadata": {},
            "outputs": [
                {
                    "data": {
                        "image/png": "[encoded data removed]",
                        "text/plain": [
                            "<Figure size 640x480 with 1 Axes>"
                        ]
                    },
                    "metadata": {},
                    "output_type": "display_data"
                }
            ],
            "source": [
                "plt.plot(beale_out[\"boundary\"][\"K_S_ac\"], beale_out[\"boundary\"][\"k_m_ac\"], \".\")\n",
                "plt.xlabel(\"K_S_ac\")\n",
                "plt.ylabel(\"k_m_ac\")\n",
                "plt.show()"
            ]
        },
        {
            "cell_type": "code",
            "execution_count": 16,
            "metadata": {},
            "outputs": [
                {
                    "name": "stdout",
                    "output_type": "stream",
                    "text": [
                        "Starting linear bootstrap procedure\n",
                        "Computing output of ADM1 model\n",
                        "Computing gradient of ADM1 model\n",
                        "Generating the bootstrapped samples\n"
                    ]
                }
            ],
            "source": [
                "lin_boot_out = adm1.UQ.adm1_lin_bootstrap(10**4, obs=obs, opti_param=param, params_eval=params_to_calib, influent_state=feed, initial_state=ini_state, digester_info=dig_info)"
            ]
        },
        {
            "cell_type": "code",
            "execution_count": 17,
            "metadata": {},
            "outputs": [
                {
                    "data": {
                        "text/plain": [
                            "[<matplotlib.lines.Line2D at 0x132ae72b0>]"
                        ]
                    },
                    "execution_count": 17,
                    "metadata": {},
                    "output_type": "execute_result"
                },
                {
                    "data": {
                        "image/png": "[encoded data removed]",
                        "text/plain": [
                            "<Figure size 640x480 with 1 Axes>"
                        ]
                    },
                    "metadata": {},
                    "output_type": "display_data"
                }
            ],
            "source": [
                "import pandas as pd\n",
                "sample_boot = lin_boot_out[\"sample\"]\n",
                "sample_pd = pd.DataFrame(sample_boot, columns = list(adm1.IO.parameter_dict.keys()))\n",
                "plt.plot(sample_pd[\"K_S_ac\"], sample_pd[\"k_m_ac\"], '.')"
            ]
        },
        {
            "cell_type": "code",
            "execution_count": null,
            "metadata": {},
            "outputs": [],
            "source": []
        }
    ],
    "metadata": {
        "kernelspec": {
            "display_name": "Python 3.9.10 64-bit",
            "language": "python",
            "name": "python3"
        },
        "language_info": {
            "codemirror_mode": {
                "name": "ipython",
                "version": 3
            },
            "file_extension": ".py",
            "mimetype": "text/x-python",
            "name": "python",
            "nbconvert_exporter": "python",
            "pygments_lexer": "ipython3",
            "version": "3.9.10"
        },
        "orig_nbformat": 4,
        "vscode": {
            "interpreter": {
                "hash": "aee8b7b246df8f9039afb4144a1f6fd8d2ca17a180786b69acc140d282b71a49"
            }
        }
    },
    "nbformat": 4,
    "nbformat_minor": 2
}
