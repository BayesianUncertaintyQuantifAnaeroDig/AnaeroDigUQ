{
    "cells": [
        {
            "cell_type": "code",
            "execution_count": null,
            "metadata": {},
            "outputs": [],
            "source": [
                "import aduq.pyadm1 as adm1\n",
                "import os\n",
                "import numpy as np\n",
                "data_path = 'aduq/pyadm1/data/'\n",
                "\n",
                "# Loading data\n",
                "feed = adm1.IO.load_dig_feed(os.path.join(data_path,\"digester_influent.csv\"))[:100] # limit to first 25 days to speed up\n",
                "ini_state = adm1.IO.load_dig_state(os.path.join(data_path, \"digester_initial.json\"))\n",
                "dig_info = adm1.IO.load_dig_info(os.path.join(data_path, \"dig_info.json\"))\n",
                "\n",
                "param = adm1.IO.load_dig_param(os.path.join(data_path, \"parameter.json\"))\n",
                "\n",
                "params_to_calib = [\"K_S_ac\", \"k_m_ac\"]"
            ]
        },
        {
            "attachments": {},
            "cell_type": "markdown",
            "metadata": {},
            "source": [
                "## ADM1 related classes\n",
                "\n",
                "There are 5 main classes for ADM1 objects:\n",
                "- DigesterInfluent: description of what goes in a digester. Saved as csv\n",
                "- DigesterStates: observations of the digester. Saved as csv\n",
                "- DigesterState: An observation of the digester at a given time. Saved as json\n",
                "- DigesterInfo: Main info about the digester (volumes and temperatures, fixed). Saved as json\n",
                "- DigesterParameter: description of the microbiology in the digester (what one calibrates). Saved as json\n",
                "\n",
                "All objects are stored and displayed in human readable formats. However, they behave as np.ndarray! To access the pandas object, use the .to_pandas() method.\n",
                "These objects can be saved using the save(path=) method."
            ]
        },
        {
            "cell_type": "code",
            "execution_count": null,
            "metadata": {},
            "outputs": [],
            "source": [
                "print(f\"Digester info:\\n{dig_info}\\n\")\n",
                "print(f\"Digester initial:\\n{ini_state}\\n\")\n",
                "print(f\"Digester parameter:\\n{param}\\n\")\n",
                "print(f\"Digester feed:\\n{feed}\\n\")"
            ]
        },
        {
            "cell_type": "markdown",
            "metadata": {},
            "source": [
                "## Basic operations\n",
                "\n",
                "ADM1 model is called through run_adm1"
            ]
        },
        {
            "cell_type": "code",
            "execution_count": null,
            "metadata": {},
            "outputs": [],
            "source": [
                "pred = adm1.run_adm1(param=param, influent_state=feed, initial_state=ini_state, digester_info=dig_info)"
            ]
        },
        {
            "cell_type": "markdown",
            "metadata": {},
            "source": [
                "The derivative of the model is assessed using adm1_derivative function. This outputs an array of shape (p, t, d), where p is the number of parameter directions on which the derivative is computed, t the time and d the number of predictions (not counting time).\n",
                "\n",
                "Note that the derivative computation is unstable, as it is impacted by the max_step argument used by the ordinary differential equation solver. Using low max_step value somewhat solves the problem, but results in an increased computation time. One should tweak the 'max_step' and 'rel_step' argument in adm1_derivative to assess the quality of the gradient estimation."
            ]
        },
        {
            "cell_type": "code",
            "execution_count": null,
            "metadata": {},
            "outputs": [],
            "source": [
                "adm1_der = adm1.adm1_derivative(\n",
                "    param=param,\n",
                "    params_to_der=params_to_calib,\n",
                "    influent_state=feed,\n",
                "    initial_state=ini_state,\n",
                "    digester_info=dig_info,\n",
                "    log_adm1=False\n",
                ")\n",
                "\n",
                "# One can assess the quality of the derivative in the following fashion\n",
                "import numpy as np\n",
                "\n",
                "param_mod = param.copy()\n",
                "pred = adm1.run_adm1(param, feed, ini_state, dig_info, max_step= 0.5 / (60 * 24))\n",
                "param_pd = param_mod.to_pandas()\n",
                "perturb = np.random.normal(0,10 ** (-4), 2)\n",
                "param_pd[params_to_calib] += perturb # param_mod is modified by side effect\n",
                "\n",
                "pred_perturb = adm1.run_adm1(param_mod, feed, ini_state,  dig_info, max_step=0.5 / (60 * 24))\n",
                "np.array((pred_perturb - pred))[:, 1:] / np.tensordot(perturb, adm1_der, (0, 0)) # These should be all 1."
            ]
        },
        {
            "cell_type": "markdown",
            "metadata": {},
            "source": [
                "## Sensitivity analysis\n",
                "\n",
                "Routines for sensitivity analysis are implemented in module SA. A global sensitivity analysis based on Morris method or a local sensitivity analysis can be performed."
            ]
        },
        {
            "cell_type": "code",
            "execution_count": null,
            "metadata": {},
            "outputs": [],
            "source": [
                "adm1.SA.global_sensitivity(\n",
                "    feed,\n",
                "    ini_state,\n",
                "    dig_info,\n",
                "    r=10,\n",
                "    n_lev=10,\n",
                ") # Generates a lot of prints!"
            ]
        },
        {
            "cell_type": "code",
            "execution_count": null,
            "metadata": {},
            "outputs": [],
            "source": [
                "adm1.SA.local_sensitivity(param, feed, ini_state, dig_info)"
            ]
        },
        {
            "cell_type": "markdown",
            "metadata": {},
            "source": [
                "## Optimisation routines"
            ]
        },
        {
            "cell_type": "code",
            "execution_count": null,
            "metadata": {},
            "outputs": [],
            "source": [
                "# To showcase the pyadm1 package, we generate noisy observations\n",
                "from aduq.pyadm1._noise_data import noise_obs, noise_influent, noise_init_state\n",
                "import matplotlib.pyplot as plt\n",
                "\n",
                "obs = noise_obs(pred, noise_lev=0.1)\n",
                "plt.plot(pred.to_pandas()['time'], pred.to_pandas()[\"S_ac\"])\n",
                "plt.plot(obs.to_pandas()['time'], obs.to_pandas()[\"S_ac\"])\n",
                "plt.show()\n",
                "print(f\"Prediction error: {adm1.adm1_err(pred, obs)}\")"
            ]
        },
        {
            "cell_type": "code",
            "execution_count": null,
            "metadata": {},
            "outputs": [],
            "source": [
                "init_param = param.copy()\n",
                "param_pd = init_param.to_pandas()\n",
                "param_pd[params_to_calib] = param_pd[params_to_calib] * np.random.uniform(\n",
                "    0.4, 2.5, len(params_to_calib)\n",
                ")  # 5% average change to every parameter\n",
                "\n",
                "out = adm1.optim.optim_cma_adm1(\n",
                "    init_param=init_param,\n",
                "    obs=obs,\n",
                "    params_eval=params_to_calib,\n",
                "    chain_length=20,\n",
                "    influent_state=feed,\n",
                "    initial_state=ini_state,\n",
                "    digester_info=dig_info,\n",
                "    print_rec=4,\n",
                "    radius_factor=0.5,\n",
                "    radius_ini=.2\n",
                ")\n",
                "opti_param = out.opti_param\n",
                "\n",
                "import matplotlib.pyplot as plt\n",
                "\n",
                "plt.plot(out.hist_score)\n"
            ]
        },
        {
            "cell_type": "markdown",
            "metadata": {},
            "source": [
                "### Bayesian calibration\n",
                "__Iter prior procedure:__\n",
                "\n",
                "The iter prior step is designed to speed up the early task of the Bayesian calibration procedure, using a variant of CMA-ES algorithm training only a diagonal covariance, with an exit criteria based on the variational inference score. It can be called using adm1_iter_prior_vi function from optim submodule. Note that the opti_param attribute of the resulting OptimResult object describes a tensorized gaussian parameter, not a gaussian parameter. "
            ]
        },
        {
            "cell_type": "code",
            "execution_count": null,
            "metadata": {},
            "outputs": [],
            "source": [
                "out = adm1.optim.adm1_iter_prior_vi(obs=obs, influent_state=feed, initial_state=ini_state, digester_info=dig_info,temperature=0.01, gen_per_step=60, chain_length=5, stop_tol=0.01, keep=30)\n",
                "\n",
                "post_param = out.opti_param\n",
                "\n",
                "# Conversion to parameter for GaussianMap\n",
                "from aduq.proba.gauss import tgauss_to_gauss_param\n",
                "post_param = tgauss_to_gauss_param(post_param)"
            ]
        },
        {
            "cell_type": "markdown",
            "metadata": {},
            "source": [
                "__Gradient descent Bayes__\n",
                "\n",
                "The bayesian calibration is performed using adm1_vi function from adm1.optim module.\n",
                "This method is computationally intensive and should be performed using parallel computations on large virtual machines.\n",
                "Note that the first steps are slow since building momentum is key.\n",
                "\n",
                "The bayesian calibration uses the variational class defined in adm1.proba module."
            ]
        },
        {
            "cell_type": "code",
            "execution_count": null,
            "metadata": {},
            "outputs": [],
            "source": [
                "optim_res = adm1.optim.adm1_vi(\n",
                "    obs=obs,\n",
                "    influent_state=feed,\n",
                "    initial_state=ini_state,\n",
                "    digester_info=dig_info,\n",
                "    ini_post=post_param,\n",
                "    temperature=0.01,\n",
                "    chain_length=3,\n",
                "    index_train=adm1.distr_param_indexes,\n",
                "    per_step=100,\n",
                "    step_size=0.001,\n",
                "    momentum=0.9,\n",
                "    print_rec=1,\n",
                "    parallel=True,\n",
                ")"
            ]
        },
        {
            "cell_type": "markdown",
            "metadata": {},
            "source": [
                "## UQ module\n",
                "\n",
                "### Fisher's information"
            ]
        },
        {
            "cell_type": "code",
            "execution_count": null,
            "metadata": {},
            "outputs": [],
            "source": [
                "fim_out = adm1.UQ.adm1_fim(opti_param, obs, feed, ini_state, dig_info, ['K_S_ac', 'k_m_ac'], silent=True)"
            ]
        },
        {
            "cell_type": "code",
            "execution_count": null,
            "metadata": {},
            "outputs": [],
            "source": [
                "# One can access the p-value using adm1_fim_pval function\n",
                "adm1.UQ.adm1_fim_pval(param, opti_param, cov = fim_out[\"cov\"], inv_cov = fim_out[\"fisher\"] )"
            ]
        },
        {
            "cell_type": "code",
            "execution_count": null,
            "metadata": {},
            "outputs": [],
            "source": [
                "# And one can evaluate the uncertainty on the previsions using linear transfer of uncertainty and gaussian hypothesis\n",
                "\n",
                "output_UQ = adm1.UQ.adm1_fim_pred(\n",
                "    opti_predict=fim_out[\"opti_predict\"],\n",
                "    cov=fim_out[\"cov\"],\n",
                "    der_log_adm1=fim_out[\"der_log_adm1\"],\n",
                "    conf_lev=0.7,\n",
                ")\n",
                "\n",
                "low_quant = output_UQ[\"lower_quant\"].to_pandas()\n",
                "high_quant = output_UQ[\"upper_quant\"].to_pandas()\n",
                "plt.plot(low_quant[\"time\"], low_quant[\"S_ac\"], label=\"lower prediction quantile\")\n",
                "plt.plot(high_quant[\"time\"], high_quant[\"S_ac\"], label=\"higher prediction quantile\")\n",
                "plt.legend()\n",
                "plt.ylabel(\"S_ac\")\n",
                "plt.show()"
            ]
        },
        {
            "cell_type": "code",
            "execution_count": null,
            "metadata": {},
            "outputs": [],
            "source": [
                "beale_out = adm1.UQ.adm1_beale(20, conf_lev=.99, cov=fim_out['cov'], param=opti_param, params_eval=params_to_calib, obs=obs,influent_state=feed, initial_state=ini_state,digester_info=dig_info)"
            ]
        },
        {
            "cell_type": "code",
            "execution_count": null,
            "metadata": {},
            "outputs": [],
            "source": [
                "plt.plot(beale_out[\"boundary\"][\"K_S_ac\"], beale_out[\"boundary\"][\"k_m_ac\"], \".\")\n",
                "plt.xlabel(\"K_S_ac\")\n",
                "plt.ylabel(\"k_m_ac\")\n",
                "plt.show()"
            ]
        },
        {
            "cell_type": "code",
            "execution_count": null,
            "metadata": {},
            "outputs": [],
            "source": [
                "lin_boot_out = adm1.UQ.adm1_lin_bootstrap(10**4, obs=obs, opti_param=param, params_eval=params_to_calib, influent_state=feed, initial_state=ini_state, digester_info=dig_info)"
            ]
        },
        {
            "cell_type": "code",
            "execution_count": null,
            "metadata": {},
            "outputs": [],
            "source": [
                "import pandas as pd\n",
                "sample_boot = lin_boot_out[\"sample\"]\n",
                "sample_pd = pd.DataFrame(sample_boot, columns = list(adm1.IO.parameter_dict.keys()))\n",
                "plt.plot(sample_pd[\"K_S_ac\"], sample_pd[\"k_m_ac\"], '.')"
            ]
        },
        {
            "cell_type": "code",
            "execution_count": null,
            "metadata": {},
            "outputs": [],
            "source": []
        }
    ],
    "metadata": {
        "kernelspec": {
            "display_name": "Python 3.9.10 64-bit",
            "language": "python",
            "name": "python3"
        },
        "language_info": {
            "codemirror_mode": {
                "name": "ipython",
                "version": 3
            },
            "file_extension": ".py",
            "mimetype": "text/x-python",
            "name": "python",
            "nbconvert_exporter": "python",
            "pygments_lexer": "ipython3",
            "version": "3.9.10"
        },
        "orig_nbformat": 4,
        "vscode": {
            "interpreter": {
                "hash": "aee8b7b246df8f9039afb4144a1f6fd8d2ca17a180786b69acc140d282b71a49"
            }
        }
    },
    "nbformat": 4,
    "nbformat_minor": 2
}
