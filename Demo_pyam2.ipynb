{
    "cells": [
        {
            "cell_type": "code",
            "execution_count": null,
            "metadata": {},
            "outputs": [],
            "source": [
                "import aduq.pyam2 as am2\n",
                "import os \n",
                "import numpy as np\n",
                "\n",
                "data_path = \"aduq/pyam2/data/\"\n",
                "\n",
                "feed = am2.IO.load_dig_feed(os.path.join(data_path, \"influent_state.csv\"))[::24][:100]\n",
                "ini_state = am2.IO.load_dig_state(os.path.join(data_path, 'init_state.json'))\n",
                "\n",
                "param = am2.IO.load_dig_param(os.path.join(data_path, \"parameter.json\"))"
            ]
        },
        {
            "cell_type": "markdown",
            "metadata": {},
            "source": [
                "AM2 manipulates np.ndarray objects, which can be seen as pandas object using the appropriate functions."
            ]
        },
        {
            "cell_type": "code",
            "execution_count": null,
            "metadata": {},
            "outputs": [],
            "source": [
                "print(f\"Digester feed:\\n{am2.IO.feed_to_pd(feed)}\")\n",
                "\n",
                "print(f\"Digester State:\\n{am2.IO.state_to_pd(ini_state)}\")\n",
                "print(f\"Digester Parameter:\\n{am2.IO.param_to_pd(param)}\")"
            ]
        },
        {
            "cell_type": "markdown",
            "metadata": {},
            "source": [
                "## Basic operations\n",
                "\n",
                "AM2 model is called through run_am2"
            ]
        },
        {
            "cell_type": "code",
            "execution_count": null,
            "metadata": {},
            "outputs": [],
            "source": [
                "pred = am2.run_am2(param=param, influent_state=feed, initial_state=ini_state)"
            ]
        },
        {
            "cell_type": "markdown",
            "metadata": {},
            "source": [
                "The derivative can be computed using the am2_derivative function. It is much more stable than the adm1 counterpart, since it computes the derivative by differentiating under the integral the ODE. As such, the derivative can be computed efficiently at the same time as the output (function am2_with_der). The derivative with respect to all the parameters is computed, then translated to the derivative with respect to the required parameters. \n",
                "\n",
                "Note that the derivative of $Z$ with respect to the parameters is always 0 (as is theoretically the case). In practice, $Z$ might experience variations due to the ODE solver, of small ($\\leq 10^{-6}) amplitudes."
            ]
        },
        {
            "cell_type": "code",
            "execution_count": null,
            "metadata": {},
            "outputs": [],
            "source": [
                "params_to_calib = ['mu1max', \"KS1\"]\n",
                "am2_der = am2.am2_derivative(\n",
                "    param=param,\n",
                "    params_to_der=params_to_calib,\n",
                "    influent_state=feed,\n",
                "    initial_state=ini_state,\n",
                "    log_am2=False\n",
                ")\n",
                "\n",
                "# One can assess the quality of the derivative in the following fashion\n",
                "import numpy as np\n",
                "\n",
                "param_mod = param.copy()\n",
                "pred = am2.run_am2(param, feed, ini_state)\n",
                "param_pd = am2.IO.param_to_pd(param_mod)\n",
                "perturb = np.random.normal(0,10 ** (-5), 2)\n",
                "param_pd[params_to_calib] += perturb # param_mod is modified by side effect\n",
                "\n",
                "pred_perturb = am2.run_am2(param_mod, feed, ini_state)\n",
                "import warnings\n",
                "with warnings.catch_warnings():\n",
                "    warnings.filterwarnings(\"ignore\", category=RuntimeWarning)\n",
                "    ratios = np.array((pred_perturb - pred))[:, 1:] / np.tensordot(perturb, am2_der, (0, 0)) \n",
                "\n",
                "print(f\"Maximum discrepancy should be small: {np.max(np.abs(ratios[:, [0, 1, 2, 3, 5, 6, 7]] - 1))}\")\n",
                "print(f\"Column for Z outputs 0/0 ratio: {np.all(np.isnan(ratios[:, 4]))}\")"
            ]
        },
        {
            "cell_type": "markdown",
            "metadata": {},
            "source": [
                "Due to the small number of parameters, it is always assumed that all parameters are calibrated and no sensitivity analysis module is prepared.\n",
                "\n",
                "## Optimisation routines"
            ]
        },
        {
            "cell_type": "code",
            "execution_count": null,
            "metadata": {},
            "outputs": [],
            "source": [
                "obs = pred.copy()\n",
                "obs[:, 1:] = obs[:, 1:] * np.exp( np.random.uniform(-0.1, 0.1, obs[:, 1:].shape) )\n",
                "\n",
                "import matplotlib.pyplot as plt\n",
                "obs_pd = am2.IO.states_to_pd(obs)\n",
                "pred_pd = am2.IO.states_to_pd(pred)\n",
                "plt.plot(pred_pd[\"time\"], pred_pd[\"X1\"])\n",
                "plt.plot(obs_pd[\"time\"], obs_pd[\"X1\"])\n",
                "plt.show()\n",
                "print(f\"Prediction error: {am2.am2_err(pred, obs)}\")"
            ]
        },
        {
            "cell_type": "code",
            "execution_count": null,
            "metadata": {},
            "outputs": [],
            "source": [
                "init_param = param.copy()\n",
                "init_param = init_param  *  np.random.uniform(\n",
                "    0.5, 2, len(init_param)\n",
                ") \n",
                "\n",
                "out = am2.optim.optim_cma_am2(\n",
                "    init_param=init_param,\n",
                "    obs=obs,\n",
                "    chain_length=24,\n",
                "    influent_state=feed,\n",
                "    initial_state=ini_state,\n",
                "    per_step=8, \n",
                "    print_rec=8,\n",
                "    radius_factor=0.8,\n",
                "    radius_ini=.6\n",
                ")\n",
                "opti_param = out.opti_param\n",
                "\n",
                "import matplotlib.pyplot as plt\n",
                "\n",
                "plt.plot(out.hist_score)"
            ]
        },
        {
            "cell_type": "code",
            "execution_count": null,
            "metadata": {},
            "outputs": [],
            "source": [
                "optim_res = am2.optim.am2_vi(\n",
                "    obs=obs,\n",
                "    influent_state=feed,\n",
                "    initial_state=ini_state,\n",
                "    temperature=0.01,\n",
                "    chain_length=40,\n",
                "    per_step=20,\n",
                "    step_size=0.01,\n",
                "    gen_decay=0.05,\n",
                "    momentum=0.8,\n",
                "    print_rec=4,\n",
                "    parallel=True,\n",
                ")"
            ]
        },
        {
            "cell_type": "markdown",
            "metadata": {},
            "source": [
                "## UQ module\n",
                "\n",
                "### Fisher's information"
            ]
        },
        {
            "cell_type": "code",
            "execution_count": null,
            "metadata": {},
            "outputs": [],
            "source": [
                "fim_out = am2.UQ.am2_fim(opti_param, obs, feed, ini_state, silent=True)\n",
                "am2.UQ.am2_fim_pval(param, opti_param, cov = fim_out[\"cov\"], inv_cov = fim_out[\"fisher\"] )"
            ]
        },
        {
            "cell_type": "code",
            "execution_count": null,
            "metadata": {},
            "outputs": [],
            "source": [
                "# And one can evaluate the uncertainty on the previsions using linear transfer of uncertainty and gaussian hypothesis\n",
                "\n",
                "output_UQ = am2.UQ.am2_fim_pred(\n",
                "    opti_predict=fim_out[\"opti_predict\"],\n",
                "    cov=fim_out[\"cov\"],\n",
                "    der_log_am2=fim_out[\"der_log_am2\"],\n",
                "    conf_lev=0.7,\n",
                ")\n",
                "\n",
                "low_quant = am2.IO.states_to_pd(output_UQ[\"lower_quant\"])\n",
                "high_quant = am2.IO.states_to_pd(output_UQ[\"upper_quant\"])\n",
                "plt.plot(low_quant[\"time\"], low_quant[\"S1\"], label=\"lower prediction quantile\")\n",
                "plt.plot(high_quant[\"time\"], high_quant[\"S1\"], label=\"higher prediction quantile\")\n",
                "plt.legend()\n",
                "plt.ylabel(f\"S1 (in {am2.IO.predict_units_dict['S1']})\")\n",
                "plt.show()"
            ]
        },
        {
            "cell_type": "code",
            "execution_count": null,
            "metadata": {},
            "outputs": [],
            "source": [
                "beale_out = am2.UQ.am2_beale(20, conf_lev=.99, cov=fim_out['cov'], param=opti_param, params_eval=params_to_calib, obs=obs,influent_state=feed, initial_state=ini_state)"
            ]
        },
        {
            "cell_type": "code",
            "execution_count": null,
            "metadata": {},
            "outputs": [],
            "source": [
                "plt.plot(beale_out[\"boundary\"][\"mu1max\"], beale_out[\"boundary\"][\"KS1\"], \".\")\n",
                "plt.xlabel(f\"mu1max (in {am2.IO.parameter_units['mu1max']})\")\n",
                "plt.ylabel(f\"KS1 (in {am2.IO.parameter_units['KS1']})\")\n",
                "plt.show()"
            ]
        },
        {
            "cell_type": "code",
            "execution_count": null,
            "metadata": {},
            "outputs": [],
            "source": [
                "from aduq.pyam2.UQ.bootstrap import am2_lin_bootstrap\n",
                "lin_boot_out = am2_lin_bootstrap(10**4, obs=obs, opti_param=opti_param, params_eval=params_to_calib, influent_state=feed, initial_state=ini_state)"
            ]
        },
        {
            "cell_type": "code",
            "execution_count": null,
            "metadata": {},
            "outputs": [],
            "source": [
                "import pandas as pd\n",
                "sample_boot = lin_boot_out[\"sample\"]\n",
                "sample_pd = pd.DataFrame(sample_boot, columns = list(am2.IO.parameter_dict.keys()))\n",
                "plt.plot(sample_pd[\"mu1max\"], sample_pd[\"KS1\"], '.')"
            ]
        },
        {
            "cell_type": "code",
            "execution_count": null,
            "metadata": {},
            "outputs": [],
            "source": [
                "boot_out = am2.UQ.am2_bootstrap(\n",
                "    20,\n",
                "    opti_param =opti_param, obs=obs,\n",
                "    influent_state=feed, initial_state=ini_state,\n",
                "    chain_length=8, per_step=20, radius_ini=.1)"
            ]
        },
        {
            "cell_type": "code",
            "execution_count": null,
            "metadata": {},
            "outputs": [],
            "source": [
                "sample_full_boot_pd = pd.DataFrame(np.array(boot_out), columns = list(am2.IO.parameter_dict.keys()))"
            ]
        },
        {
            "cell_type": "code",
            "execution_count": null,
            "metadata": {},
            "outputs": [],
            "source": [
                "plt.plot(sample_full_boot_pd[\"mu1max\"], sample_full_boot_pd[\"KS1\"], '.')"
            ]
        },
        {
            "cell_type": "code",
            "execution_count": null,
            "metadata": {},
            "outputs": [],
            "source": []
        }
    ],
    "metadata": {
        "kernelspec": {
            "display_name": "Python 3.9.10 64-bit",
            "language": "python",
            "name": "python3"
        },
        "language_info": {
            "codemirror_mode": {
                "name": "ipython",
                "version": 3
            },
            "file_extension": ".py",
            "mimetype": "text/x-python",
            "name": "python",
            "nbconvert_exporter": "python",
            "pygments_lexer": "ipython3",
            "version": "3.9.10"
        },
        "orig_nbformat": 4,
        "vscode": {
            "interpreter": {
                "hash": "aee8b7b246df8f9039afb4144a1f6fd8d2ca17a180786b69acc140d282b71a49"
            }
        }
    },
    "nbformat": 4,
    "nbformat_minor": 2
}
